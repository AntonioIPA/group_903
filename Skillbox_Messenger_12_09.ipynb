{
  "nbformat": 4,
  "nbformat_minor": 0,
  "metadata": {
    "colab": {
      "provenance": [],
      "collapsed_sections": [],
      "include_colab_link": true
    },
    "kernelspec": {
      "name": "python3",
      "display_name": "Python 3"
    },
    "language_info": {
      "name": "python"
    }
  },
  "cells": [
    {
      "cell_type": "markdown",
      "metadata": {
        "id": "view-in-github",
        "colab_type": "text"
      },
      "source": [
        "<a href=\"https://colab.research.google.com/github/AntonioIPA/group_903/blob/master/Skillbox_Messenger_12_09.ipynb\" target=\"_parent\"><img src=\"https://colab.research.google.com/assets/colab-badge.svg\" alt=\"Open In Colab\"/></a>"
      ]
    },
    {
      "cell_type": "markdown",
      "source": [
        "# День 1: Знакомство с Python\n",
        "Скачать:\n",
        "\n",
        "Python: https://www.python.org/downloads/\n",
        "\n",
        "Pycharm: https://www.jetbrains.com/pycharm/download/#section=windows"
      ],
      "metadata": {
        "id": "axUWeg7Ds6R1"
      }
    },
    {
      "cell_type": "code",
      "execution_count": null,
      "metadata": {
        "colab": {
          "base_uri": "https://localhost:8080/"
        },
        "id": "xPEjuQVdsjl8",
        "outputId": "6894a825-443b-43a7-8a4a-c8e3d88d6ac4"
      },
      "outputs": [
        {
          "output_type": "stream",
          "name": "stdout",
          "text": [
            "Всем приветы в этом чате!\n"
          ]
        }
      ],
      "source": [
        "print(\"Всем приветы в этом чате!\")"
      ]
    },
    {
      "cell_type": "code",
      "source": [
        "# Переменные\n",
        "\n",
        "speaker = \"Mike\"\n"
      ],
      "metadata": {
        "id": "Jczh9ra77MQi"
      },
      "execution_count": null,
      "outputs": []
    },
    {
      "cell_type": "code",
      "source": [
        "speaker = \"Mike\"\n",
        "duration = 110\n",
        "title = \"знакомимся с пайтон\"\n",
        "duration_hours = round(duration / 60, 2)\n",
        "\n",
        "\n",
        "print(f\"Webinar {title} duration time {duration_hours} hours,mc is :{speaker}\") \n",
        "# сколько часов в минутах\n",
        "int(110 / 60)\n",
        "# сколько минут осталось\n",
        "110 % 60\n",
        "\n",
        "minutes = 160\n",
        "hours = int(minutes/60)\n",
        "rest = minutes % 60\n",
        "print(f\"В {minutes} минутах равно {hours} часов и {rest} минут\")\n",
        "\n",
        "# Для каждого посетителя в списке посетителей сделать следующее\n",
        "for visitor in visitors:\n",
        "    print(visitor)\n",
        "\n",
        "    # Словарь\n",
        "    message = {\n",
        "          \"text\": \"Всем привет\"\n",
        "          \"time\": \"23:09\",\n",
        "          \"sender\": \"Мистер Майк\"\n",
        "    }\n",
        "\n",
        "    # Мессенджэр\n",
        "    all_messages = [] # Список всех сообщений\n",
        "\n",
        "    all_messages.append({\n",
        "        \"text\": \"Это первый мессадж\"\n",
        "        \"time\": \"00:00\",\n",
        "        \"sender\": \"root\"\n",
        "    })\n",
        "\n",
        "# Функция которая печатает все сообщения\n",
        "def display_all_messages():\n",
        "  for message in all_messages:\n",
        "    print(message)\n",
        "\n",
        "# Функция добавления нового сообщения\n",
        "def add_message(sender, text):\n",
        "  new_message = {\n",
        "      \"text\": sender\n",
        "      \"time\": \"20:25\", # todo подставить текущее время datetime.now, strftime\n",
        "      \"sender\": sender,\n",
        "  }\n",
        "  all_messages.append(new_message)\n",
        "\n",
        "  add_message(\"Майк\", \"Всем привет\")\n",
        "  add_message(\"Вася\", \"Очень рад вас видеть\")\n",
        "  add_message(\"Gtnz\", \"Лол, это чат?\")\n",
        "  display_all_messages()\n",
        "\n",
        "\n",
        "\n",
        "\n"
      ],
      "metadata": {
        "id": "OUbfR8Si6_w6",
        "outputId": "de7b4542-6c14-482e-ac30-16bfc495987d",
        "colab": {
          "base_uri": "https://localhost:8080/"
        }
      },
      "execution_count": 11,
      "outputs": [
        {
          "output_type": "stream",
          "name": "stdout",
          "text": [
            "Webinar знакомимся с пайтон duration time 1.83 hours,mc is :Mike\n",
            "В 160 минутах равно 2 часов и 40 минут\n"
          ]
        }
      ]
    }
  ]
}